{
 "cells": [
  {
   "cell_type": "markdown",
   "metadata": {},
   "source": [
    "# Plotting and comparing OBPs between our stochastic game (value iteration) and empirical values"
   ]
  },
  {
   "cell_type": "code",
   "execution_count": 1,
   "metadata": {},
   "outputs": [],
   "source": [
    "# Import appropriate libraries\n",
    "import pandas, json, requests, urllib, io\n",
    "import numpy as np        \n",
    "import matplotlib.pyplot as plt"
   ]
  },
  {
   "cell_type": "code",
   "execution_count": 2,
   "metadata": {},
   "outputs": [],
   "source": [
    "# Open empirical and stochastic game results\n",
    "\n",
    "with open(\"empirical_state_outcomes.json\") as infile:\n",
    "    empirical = json.load(infile)\n",
    "with open(\"value_iter_outcomes.json\") as infile:\n",
    "    value_iter = json.load(infile)"
   ]
  },
  {
   "cell_type": "code",
   "execution_count": 4,
   "metadata": {},
   "outputs": [],
   "source": [
    "# Dictionary mapping each third value to qualitative ability\n",
    "group_map = {\n",
    "    '0':'Weak',\n",
    "    '1':'Average',\n",
    "    '2':'Strong'\n",
    "}"
   ]
  },
  {
   "cell_type": "code",
   "execution_count": 7,
   "metadata": {},
   "outputs": [],
   "source": [
    "# Import plotting library and change setting for Latex\n",
    "\n",
    "import matplotlib\n",
    "import matplotlib.pyplot as plt\n",
    "matplotlib.use(\"pdf\")\n",
    "matplotlib.rcParams.update({\n",
    "    'font.family': 'serif',\n",
    "})"
   ]
  },
  {
   "cell_type": "code",
   "execution_count": 8,
   "metadata": {},
   "outputs": [],
   "source": [
    "# Plot OBPs across counts for stochastic game and empirical values\n",
    "# Group: string \"AB\", where A = pitcher quality and B = batter quality; A,B is from {\"0\",\"1\",\"2\"}\n",
    "\n",
    "def plot_group(group,empirical,value_iter):\n",
    "    print(\"STARTED\")   \n",
    "    labels = empirical[group].keys()\n",
    "    emp_means = []\n",
    "    val_means = []\n",
    "    emp_yerr = []\n",
    "    val_yerr = []\n",
    "\n",
    "    for label in labels:\n",
    "        emp_at_count = np.array(empirical[group][label])\n",
    "        emp_mean = np.mean(emp_at_count)\n",
    "        emp_std = np.std(emp_at_count)\n",
    "        emp_len = emp_at_count.shape[0]\n",
    "        emp_err = (1.96*emp_std/np.sqrt(emp_len))\n",
    "        print(type(emp_err))\n",
    "        emp_yerr.append(emp_err)\n",
    "        emp_means.append(emp_mean)\n",
    "        \n",
    "        value_iter_at_count = np.array(value_iter[group][label])[:,0]\n",
    "        val_mean = np.mean(value_iter_at_count)\n",
    "        val_std = np.std(value_iter_at_count)\n",
    "        val_len = value_iter_at_count.shape[0]\n",
    "        val_err = 2*(1.96*val_std/np.sqrt(val_len))\n",
    "        print(val_err)\n",
    "        val_yerr.append(val_err)\n",
    "        val_means.append(val_mean)\n",
    "\n",
    "    print(emp_yerr)\n",
    "    print(val_yerr)\n",
    "    emp_yerr = emp_yerr\n",
    "    data = np.arange(len(labels))  \n",
    "    width = 0.3 \n",
    "    dist = .08\n",
    "\n",
    "    fig, ax = plt.subplots()\n",
    "    fig.set_size_inches(w=4.2, h=3.2)\n",
    "    rect1 = ax.bar(data - width/2-dist/2, emp_means, width, yerr= emp_yerr, label='Empirical',  color=\"tomato\")\n",
    "    rect2 = ax.bar(data + width/2+dist/2, val_means, width, yerr= val_yerr, label='SG',  color=\"dodgerblue\")\n",
    "    \n",
    "    \n",
    "    def autolabel(rects, yerrs):\n",
    "\n",
    "        for i in range(len(rects)):\n",
    "            rect = rects[i]\n",
    "            yerr = yerrs[i]\n",
    "            height = rect.get_height()\n",
    "\n",
    "            print(height)\n",
    "            ax.text(rect.get_x() + rect.get_width()/2., height+yerr+.05,\n",
    "                    '%.3f' % float(height), rotation=90,\n",
    "                    ha='center', va='bottom')\n",
    "    #autolabel(rect1, emp_yerr)\n",
    "    #autolabel(rect2, val_yerr)\n",
    "    ax.set_ylim([0,1])\n",
    "    ax.set_ylabel('State Value (OBP at State)') \n",
    "    ax.set_xlabel('Count')\n",
    "    ax.set_title(\"%s Pitchers vs. %s Batters\" %(group_map[group[0]], group_map[group[1]]))\n",
    "    ax.set_xticks(data)\n",
    "    ax.set_xticklabels(labels)\n",
    "    ax.legend(loc='upper center', ncol=2)\n",
    "    \n",
    "    file_name = '%s_p_%s_b_sg.pdf'%(group_map[group[0]], group_map[group[1]])\n",
    "    print(file_name)\n",
    "\n",
    "    #fig.tight_layout()\n",
    "\n",
    "    plt.show()\n",
    "    plt.savefig(file_name,dpi=120)"
   ]
  },
  {
   "cell_type": "code",
   "execution_count": 17,
   "metadata": {},
   "outputs": [
    {
     "name": "stdout",
     "output_type": "stream",
     "text": [
      "STARTED\n",
      "<class 'numpy.float64'>\n",
      "0.007649738233650569\n",
      "<class 'numpy.float64'>\n",
      "0.007178483858137376\n",
      "<class 'numpy.float64'>\n",
      "0.00706813236005225\n",
      "<class 'numpy.float64'>\n",
      "0.008057863888471645\n",
      "<class 'numpy.float64'>\n",
      "0.006963858794523501\n",
      "<class 'numpy.float64'>\n",
      "0.006934619532469428\n",
      "<class 'numpy.float64'>\n",
      "0.008532844399809099\n",
      "<class 'numpy.float64'>\n",
      "0.007251192005895507\n",
      "<class 'numpy.float64'>\n",
      "0.006361387725911686\n",
      "<class 'numpy.float64'>\n",
      "0.006122370123421647\n",
      "<class 'numpy.float64'>\n",
      "0.006417042566288014\n",
      "<class 'numpy.float64'>\n",
      "0.005198389151730228\n",
      "[0.014768738608365407, 0.019595662016950847, 0.025667189445226456, 0.024289419230777008, 0.022571320521545188, 0.021504980856430156, 0.04232837413489061, 0.031663732641736865, 0.024340216534138467, 0.06384388511569973, 0.04894297636092611, 0.031540280958112385]\n",
      "[0.007649738233650569, 0.007178483858137376, 0.00706813236005225, 0.008057863888471645, 0.006963858794523501, 0.006934619532469428, 0.008532844399809099, 0.007251192005895507, 0.006361387725911686, 0.006122370123421647, 0.006417042566288014, 0.005198389151730228]\n",
      "Strong_p_Strong_b_sg.pdf\n"
     ]
    },
    {
     "name": "stderr",
     "output_type": "stream",
     "text": [
      "/project/engineering/anaconda3/lib/python3.7/site-packages/ipykernel_launcher.py:19: VisibleDeprecationWarning: Creating an ndarray from ragged nested sequences (which is a list-or-tuple of lists-or-tuples-or ndarrays with different lengths or shapes) is deprecated. If you meant to do this, you must specify 'dtype=object' when creating the ndarray\n"
     ]
    },
    {
     "data": {
      "image/png": "[encoded data removed]",
      "text/plain": [
       "<Figure size 302.4x230.4 with 1 Axes>"
      ]
     },
     "metadata": {
      "needs_background": "light"
     },
     "output_type": "display_data"
    }
   ],
   "source": [
    "\n",
    "plot_group(\"22\", empirical,value_iter)"
   ]
  },
  {
   "cell_type": "markdown",
   "metadata": {},
   "source": [
    "# Overall Reductions"
   ]
  },
  {
   "cell_type": "code",
   "execution_count": 8,
   "metadata": {},
   "outputs": [
    {
     "name": "stdout",
     "output_type": "stream",
     "text": [
      "00\n",
      "EMP\n",
      "0.2930232558139535\n",
      "PRED\n",
      "0.22073387037995132\n",
      "PERC RED\n",
      "0.24670187092556298\n",
      ">>>>>>\n",
      "01\n",
      "EMP\n",
      "0.34730113636363635\n",
      "PRED\n",
      "0.25756185355790717\n",
      "PERC RED\n",
      "0.25839040938745744\n",
      ">>>>>>\n",
      "02\n",
      "EMP\n",
      "0.41189801699716716\n",
      "PRED\n",
      "0.2757462099030316\n",
      "PERC RED\n",
      "0.33054737210612\n",
      ">>>>>>\n",
      "10\n",
      "EMP\n",
      "0.24857468643101482\n",
      "PRED\n",
      "0.20924167120789483\n",
      "PERC RED\n",
      "0.15823419426915702\n",
      ">>>>>>\n",
      "11\n",
      "EMP\n",
      "0.3236196319018405\n",
      "PRED\n",
      "0.24370826634534923\n",
      "PERC RED\n",
      "0.24692990683806784\n",
      ">>>>>>\n",
      "12\n",
      "EMP\n",
      "0.37342135476463834\n",
      "PRED\n",
      "0.2627391244372302\n",
      "PERC RED\n",
      "0.29640037698746347\n",
      ">>>>>>\n",
      "20\n",
      "EMP\n",
      "0.252470799640611\n",
      "PRED\n",
      "0.20998103981947103\n",
      "PERC RED\n",
      "0.1682957390780383\n",
      ">>>>>>\n",
      "21\n",
      "EMP\n",
      "0.27533830433581885\n",
      "PRED\n",
      "0.24161606968161264\n",
      "PERC RED\n",
      "0.1224756385986767\n",
      ">>>>>>\n",
      "22\n",
      "EMP\n",
      "0.34191269240474387\n",
      "PRED\n",
      "0.2593175395025763\n",
      "PERC RED\n",
      "0.2415679638016901\n",
      ">>>>>>\n",
      "EMP MEAN OBP AT COUNT 00 :0.3287\n",
      "VAL ITER MEAN OBP AT COUNT 00 :0.2423\n",
      "0.2630 PERCENT REDUCTION\n"
     ]
    },
    {
     "name": "stderr",
     "output_type": "stream",
     "text": [
      "/project/engineering/anaconda3/lib/python3.7/site-packages/ipykernel_launcher.py:10: VisibleDeprecationWarning: Creating an ndarray from ragged nested sequences (which is a list-or-tuple of lists-or-tuples-or ndarrays with different lengths or shapes) is deprecated. If you meant to do this, you must specify 'dtype=object' when creating the ndarray\n",
      "  # Remove the CWD from sys.path while we load stuff.\n"
     ]
    }
   ],
   "source": [
    "# Prints overall reductions for specified count for all pitcher/batter group matchups\n",
    "\n",
    "def print_reductions(count):\n",
    "    total_empirical = []\n",
    "    total_val_iter = []\n",
    "\n",
    "\n",
    "\n",
    "    for group in empirical.keys():\n",
    "        group_emp = empirical[group][count]\n",
    "        total_empirical = total_empirical + group_emp\n",
    "        #print(np.array(value_iter[group][count])[:,0])\n",
    "        group_val = list(np.array(value_iter[group][count])[:,0])\n",
    "        total_val_iter = total_val_iter + group_val\n",
    "\n",
    "        g_emp_mean = np.mean(np.array(group_emp))\n",
    "        g_val_mean = np.mean(np.array(group_val))\n",
    "        print(group)\n",
    "        print(\"EMP\")\n",
    "        print(g_emp_mean)\n",
    "        print(\"PRED\")\n",
    "        print(g_val_mean)\n",
    "        print(\"PERC RED\")\n",
    "        print((g_emp_mean-g_val_mean)/g_emp_mean)\n",
    "        print(\">>>>>>\")\n",
    "\n",
    "    #print(total_empirical)\n",
    "    #print(total_val_iter)\n",
    "    emp_mean = np.mean(np.array(total_empirical))\n",
    "    val_mean = np.mean(np.array(total_val_iter))\n",
    "\n",
    "\n",
    "    reduction = (emp_mean-val_mean)/emp_mean\n",
    "    print(\"EMP MEAN OBP AT COUNT %s :%.4f\"%(count,emp_mean))\n",
    "    print(\"VAL ITER MEAN OBP AT COUNT %s :%.4f\"%(count,val_mean))\n",
    "    print(\"%.4f PERCENT REDUCTION\"%(reduction))\n",
    "print_reductions(\"00\")"
   ]
  },
  {
   "cell_type": "code",
   "execution_count": null,
   "metadata": {},
   "outputs": [],
   "source": []
  }
 ],
 "metadata": {
  "kernelspec": {
   "display_name": "Python 3",
   "language": "python",
   "name": "python3"
  },
  "language_info": {
   "codemirror_mode": {
    "name": "ipython",
    "version": 3
   },
   "file_extension": ".py",
   "mimetype": "text/x-python",
   "name": "python",
   "nbconvert_exporter": "python",
   "pygments_lexer": "ipython3",
   "version": "3.7.7"
  }
 },
 "nbformat": 4,
 "nbformat_minor": 4
}

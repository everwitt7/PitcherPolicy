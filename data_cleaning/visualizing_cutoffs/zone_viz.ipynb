{
 "cells": [
  {
   "cell_type": "code",
   "execution_count": 1,
   "id": "875514b3",
   "metadata": {},
   "outputs": [],
   "source": [
    "import numpy as np\n",
    "import pandas as pd\n",
    "import seaborn as sns"
   ]
  },
  {
   "cell_type": "code",
   "execution_count": 2,
   "id": "f902e88d",
   "metadata": {},
   "outputs": [],
   "source": [
    "pitches_path = \"/Users/Everwitt/Desktop/Baseball_Data/all_pitches.csv\"\n",
    "atbat_path = \"/Users/Everwitt/Desktop/Baseball_Data/all_atbats.csv\""
   ]
  },
  {
   "cell_type": "code",
   "execution_count": 3,
   "id": "aca21e17",
   "metadata": {},
   "outputs": [],
   "source": [
    "pitch_df = pd.read_csv(pitches_path)\n",
    "atbat_df = pd.read_csv(atbat_path)"
   ]
  },
  {
   "cell_type": "code",
   "execution_count": 4,
   "id": "8007f9d8",
   "metadata": {},
   "outputs": [],
   "source": [
    "# Nick Markakis\n",
    "batter_id = 571448\n",
    "\n",
    "# Greinke\n",
    "pitcher_id = 425844\n",
    "\n",
    "\n",
    "# Greinke: 425844 (64)\n",
    "# Cole: 543037 (32)\n",
    "# Nola: 605400 (49)\n",
    "# Verlander: 434378 (50)\n",
    "\n",
    "# All Counts (keep in mind Right/Left Pitchers & Batters)\n",
    "count = \"32\""
   ]
  },
  {
   "cell_type": "code",
   "execution_count": 5,
   "id": "6c7a5ccb",
   "metadata": {},
   "outputs": [],
   "source": [
    "# find batter that went up against scherzer the most\n",
    "filt = atbat_df[\"pitcher_id\"] == 425844"
   ]
  },
  {
   "cell_type": "code",
   "execution_count": 6,
   "id": "b4292ef3",
   "metadata": {},
   "outputs": [],
   "source": [
    "x = atbat_df.loc[filt]"
   ]
  },
  {
   "cell_type": "code",
   "execution_count": 7,
   "id": "e361fda4",
   "metadata": {},
   "outputs": [
    {
     "data": {
      "text/plain": [
       "571448    64\n",
       "453568    63\n",
       "596115    48\n",
       "518934    43\n",
       "571976    42\n",
       "          ..\n",
       "571578     1\n",
       "446308     1\n",
       "435078     1\n",
       "605397     1\n",
       "543592     1\n",
       "Name: batter_id, Length: 612, dtype: int64"
      ]
     },
     "execution_count": 7,
     "metadata": {},
     "output_type": "execute_result"
    }
   ],
   "source": [
    "x[\"batter_id\"].value_counts()"
   ]
  },
  {
   "cell_type": "code",
   "execution_count": 8,
   "id": "df6ff348",
   "metadata": {},
   "outputs": [],
   "source": [
    "filt = (atbat_df[\"batter_id\"] == batter_id) & (atbat_df[\"pitcher_id\"] == pitcher_id)"
   ]
  },
  {
   "cell_type": "code",
   "execution_count": 9,
   "id": "c11359e5",
   "metadata": {},
   "outputs": [],
   "source": [
    "atbat_series = list(atbat_df.loc[filt, \"ab_id\"])"
   ]
  },
  {
   "cell_type": "code",
   "execution_count": 11,
   "id": "6c9d826d",
   "metadata": {},
   "outputs": [],
   "source": [
    "ab_filt = pitch_df[\"ab_id\"].isin(atbat_series)"
   ]
  },
  {
   "cell_type": "code",
   "execution_count": 12,
   "id": "da17e5cc",
   "metadata": {},
   "outputs": [],
   "source": [
    "batter_pitcher = pitch_df.loc[ab_filt]"
   ]
  },
  {
   "cell_type": "code",
   "execution_count": 13,
   "id": "aede6df3",
   "metadata": {},
   "outputs": [
    {
     "data": {
      "text/html": [
       "<div>\n",
       "<style scoped>\n",
       "    .dataframe tbody tr th:only-of-type {\n",
       "        vertical-align: middle;\n",
       "    }\n",
       "\n",
       "    .dataframe tbody tr th {\n",
       "        vertical-align: top;\n",
       "    }\n",
       "\n",
       "    .dataframe thead th {\n",
       "        text-align: right;\n",
       "    }\n",
       "</style>\n",
       "<table border=\"1\" class=\"dataframe\">\n",
       "  <thead>\n",
       "    <tr style=\"text-align: right;\">\n",
       "      <th></th>\n",
       "      <th>px</th>\n",
       "      <th>py</th>\n",
       "      <th>code</th>\n",
       "      <th>type</th>\n",
       "      <th>pitch_type</th>\n",
       "      <th>ab_id</th>\n",
       "      <th>b_count</th>\n",
       "      <th>s_count</th>\n",
       "      <th>outs</th>\n",
       "      <th>pitch_num</th>\n",
       "      <th>on_1b</th>\n",
       "      <th>on_2b</th>\n",
       "      <th>on_3b</th>\n",
       "      <th>swing</th>\n",
       "      <th>res</th>\n",
       "      <th>zone</th>\n",
       "    </tr>\n",
       "  </thead>\n",
       "  <tbody>\n",
       "    <tr>\n",
       "      <th>43569</th>\n",
       "      <td>1.763</td>\n",
       "      <td>-2.532</td>\n",
       "      <td>*B</td>\n",
       "      <td>B</td>\n",
       "      <td>SL</td>\n",
       "      <td>2015012216</td>\n",
       "      <td>0</td>\n",
       "      <td>0</td>\n",
       "      <td>1</td>\n",
       "      <td>1</td>\n",
       "      <td>1.0</td>\n",
       "      <td>1.0</td>\n",
       "      <td>0.0</td>\n",
       "      <td>0</td>\n",
       "      <td>ball</td>\n",
       "      <td>16b</td>\n",
       "    </tr>\n",
       "    <tr>\n",
       "      <th>43570</th>\n",
       "      <td>0.191</td>\n",
       "      <td>-0.674</td>\n",
       "      <td>C</td>\n",
       "      <td>S</td>\n",
       "      <td>FF</td>\n",
       "      <td>2015012216</td>\n",
       "      <td>1</td>\n",
       "      <td>0</td>\n",
       "      <td>1</td>\n",
       "      <td>2</td>\n",
       "      <td>1.0</td>\n",
       "      <td>1.0</td>\n",
       "      <td>0.0</td>\n",
       "      <td>0</td>\n",
       "      <td>strike</td>\n",
       "      <td>7a</td>\n",
       "    </tr>\n",
       "    <tr>\n",
       "      <th>43571</th>\n",
       "      <td>-0.433</td>\n",
       "      <td>-0.831</td>\n",
       "      <td>X</td>\n",
       "      <td>X</td>\n",
       "      <td>CH</td>\n",
       "      <td>2015012216</td>\n",
       "      <td>1</td>\n",
       "      <td>1</td>\n",
       "      <td>1</td>\n",
       "      <td>3</td>\n",
       "      <td>1.0</td>\n",
       "      <td>1.0</td>\n",
       "      <td>0.0</td>\n",
       "      <td>1</td>\n",
       "      <td>out</td>\n",
       "      <td>6a</td>\n",
       "    </tr>\n",
       "    <tr>\n",
       "      <th>43654</th>\n",
       "      <td>-0.310</td>\n",
       "      <td>-0.668</td>\n",
       "      <td>F</td>\n",
       "      <td>S</td>\n",
       "      <td>CH</td>\n",
       "      <td>2015012238</td>\n",
       "      <td>0</td>\n",
       "      <td>0</td>\n",
       "      <td>0</td>\n",
       "      <td>1</td>\n",
       "      <td>1.0</td>\n",
       "      <td>0.0</td>\n",
       "      <td>0.0</td>\n",
       "      <td>1</td>\n",
       "      <td>foul</td>\n",
       "      <td>6a</td>\n",
       "    </tr>\n",
       "    <tr>\n",
       "      <th>43655</th>\n",
       "      <td>1.528</td>\n",
       "      <td>-1.046</td>\n",
       "      <td>B</td>\n",
       "      <td>B</td>\n",
       "      <td>SL</td>\n",
       "      <td>2015012238</td>\n",
       "      <td>0</td>\n",
       "      <td>1</td>\n",
       "      <td>0</td>\n",
       "      <td>2</td>\n",
       "      <td>1.0</td>\n",
       "      <td>0.0</td>\n",
       "      <td>0.0</td>\n",
       "      <td>0</td>\n",
       "      <td>ball</td>\n",
       "      <td>13b</td>\n",
       "    </tr>\n",
       "  </tbody>\n",
       "</table>\n",
       "</div>"
      ],
      "text/plain": [
       "          px     py code type pitch_type       ab_id  b_count  s_count  outs  \\\n",
       "43569  1.763 -2.532   *B    B         SL  2015012216        0        0     1   \n",
       "43570  0.191 -0.674    C    S         FF  2015012216        1        0     1   \n",
       "43571 -0.433 -0.831    X    X         CH  2015012216        1        1     1   \n",
       "43654 -0.310 -0.668    F    S         CH  2015012238        0        0     0   \n",
       "43655  1.528 -1.046    B    B         SL  2015012238        0        1     0   \n",
       "\n",
       "       pitch_num  on_1b  on_2b  on_3b  swing     res zone  \n",
       "43569          1    1.0    1.0    0.0      0    ball  16b  \n",
       "43570          2    1.0    1.0    0.0      0  strike   7a  \n",
       "43571          3    1.0    1.0    0.0      1     out   6a  \n",
       "43654          1    1.0    0.0    0.0      1    foul   6a  \n",
       "43655          2    1.0    0.0    0.0      0    ball  13b  "
      ]
     },
     "execution_count": 13,
     "metadata": {},
     "output_type": "execute_result"
    }
   ],
   "source": [
    "batter_pitcher.head()"
   ]
  },
  {
   "cell_type": "code",
   "execution_count": 14,
   "id": "0599662d",
   "metadata": {},
   "outputs": [
    {
     "data": {
      "text/plain": [
       "FF    105\n",
       "SL     74\n",
       "FT     27\n",
       "CU     25\n",
       "CH     18\n",
       "FC      2\n",
       "Name: pitch_type, dtype: int64"
      ]
     },
     "execution_count": 14,
     "metadata": {},
     "output_type": "execute_result"
    }
   ],
   "source": [
    "batter_pitcher[\"pitch_type\"].value_counts()"
   ]
  },
  {
   "cell_type": "code",
   "execution_count": 16,
   "id": "f635e61d",
   "metadata": {},
   "outputs": [],
   "source": [
    "pitch_filt = batter_pitcher[\"pitch_type\"] == \"FF\""
   ]
  },
  {
   "cell_type": "code",
   "execution_count": 52,
   "id": "b093348c",
   "metadata": {},
   "outputs": [],
   "source": [
    "df = batter_pitcher.loc[pitch_filt]"
   ]
  },
  {
   "cell_type": "code",
   "execution_count": 53,
   "id": "5dd74539",
   "metadata": {},
   "outputs": [
    {
     "data": {
      "text/plain": [
       "13a    24\n",
       "2a     11\n",
       "5a     10\n",
       "8a     10\n",
       "7a      9\n",
       "4a      7\n",
       "12a     7\n",
       "16b     6\n",
       "1a      6\n",
       "13b     4\n",
       "3a      3\n",
       "10b     3\n",
       "10a     2\n",
       "11b     1\n",
       "9b      1\n",
       "0a      1\n",
       "Name: zone, dtype: int64"
      ]
     },
     "execution_count": 53,
     "metadata": {},
     "output_type": "execute_result"
    }
   ],
   "source": [
    "df[\"zone\"].value_counts()"
   ]
  },
  {
   "cell_type": "code",
   "execution_count": 54,
   "id": "51484e8c",
   "metadata": {},
   "outputs": [
    {
     "name": "stderr",
     "output_type": "stream",
     "text": [
      "/opt/miniconda3/lib/python3.9/site-packages/pandas/core/indexing.py:1667: SettingWithCopyWarning: \n",
      "A value is trying to be set on a copy of a slice from a DataFrame.\n",
      "Try using .loc[row_indexer,col_indexer] = value instead\n",
      "\n",
      "See the caveats in the documentation: https://pandas.pydata.org/pandas-docs/stable/user_guide/indexing.html#returning-a-view-versus-a-copy\n",
      "  self.obj[key] = value\n"
     ]
    },
    {
     "data": {
      "text/html": [
       "<div>\n",
       "<style scoped>\n",
       "    .dataframe tbody tr th:only-of-type {\n",
       "        vertical-align: middle;\n",
       "    }\n",
       "\n",
       "    .dataframe tbody tr th {\n",
       "        vertical-align: top;\n",
       "    }\n",
       "\n",
       "    .dataframe thead th {\n",
       "        text-align: right;\n",
       "    }\n",
       "</style>\n",
       "<table border=\"1\" class=\"dataframe\">\n",
       "  <thead>\n",
       "    <tr style=\"text-align: right;\">\n",
       "      <th></th>\n",
       "      <th>px</th>\n",
       "      <th>py</th>\n",
       "      <th>code</th>\n",
       "      <th>type</th>\n",
       "      <th>pitch_type</th>\n",
       "      <th>ab_id</th>\n",
       "      <th>b_count</th>\n",
       "      <th>s_count</th>\n",
       "      <th>outs</th>\n",
       "      <th>pitch_num</th>\n",
       "      <th>on_1b</th>\n",
       "      <th>on_2b</th>\n",
       "      <th>on_3b</th>\n",
       "      <th>swing</th>\n",
       "      <th>res</th>\n",
       "      <th>zone</th>\n",
       "      <th>x</th>\n",
       "      <th>y</th>\n",
       "    </tr>\n",
       "  </thead>\n",
       "  <tbody>\n",
       "    <tr>\n",
       "      <th>43570</th>\n",
       "      <td>0.191</td>\n",
       "      <td>-0.674</td>\n",
       "      <td>C</td>\n",
       "      <td>S</td>\n",
       "      <td>FF</td>\n",
       "      <td>2015012216</td>\n",
       "      <td>1</td>\n",
       "      <td>0</td>\n",
       "      <td>1</td>\n",
       "      <td>2</td>\n",
       "      <td>1.0</td>\n",
       "      <td>1.0</td>\n",
       "      <td>0.0</td>\n",
       "      <td>0</td>\n",
       "      <td>strike</td>\n",
       "      <td>7a</td>\n",
       "      <td>-1</td>\n",
       "      <td>-1</td>\n",
       "    </tr>\n",
       "    <tr>\n",
       "      <th>43735</th>\n",
       "      <td>-0.123</td>\n",
       "      <td>-0.023</td>\n",
       "      <td>C</td>\n",
       "      <td>S</td>\n",
       "      <td>FF</td>\n",
       "      <td>2015012261</td>\n",
       "      <td>0</td>\n",
       "      <td>0</td>\n",
       "      <td>0</td>\n",
       "      <td>1</td>\n",
       "      <td>0.0</td>\n",
       "      <td>0.0</td>\n",
       "      <td>0.0</td>\n",
       "      <td>0</td>\n",
       "      <td>strike</td>\n",
       "      <td>4a</td>\n",
       "      <td>-1</td>\n",
       "      <td>-1</td>\n",
       "    </tr>\n",
       "    <tr>\n",
       "      <th>43736</th>\n",
       "      <td>1.846</td>\n",
       "      <td>0.140</td>\n",
       "      <td>B</td>\n",
       "      <td>B</td>\n",
       "      <td>FF</td>\n",
       "      <td>2015012261</td>\n",
       "      <td>0</td>\n",
       "      <td>1</td>\n",
       "      <td>0</td>\n",
       "      <td>2</td>\n",
       "      <td>0.0</td>\n",
       "      <td>0.0</td>\n",
       "      <td>0.0</td>\n",
       "      <td>0</td>\n",
       "      <td>ball</td>\n",
       "      <td>13b</td>\n",
       "      <td>-1</td>\n",
       "      <td>-1</td>\n",
       "    </tr>\n",
       "    <tr>\n",
       "      <th>145800</th>\n",
       "      <td>-0.102</td>\n",
       "      <td>0.024</td>\n",
       "      <td>F</td>\n",
       "      <td>S</td>\n",
       "      <td>FF</td>\n",
       "      <td>2015040796</td>\n",
       "      <td>0</td>\n",
       "      <td>0</td>\n",
       "      <td>2</td>\n",
       "      <td>1</td>\n",
       "      <td>0.0</td>\n",
       "      <td>0.0</td>\n",
       "      <td>0.0</td>\n",
       "      <td>1</td>\n",
       "      <td>foul</td>\n",
       "      <td>4a</td>\n",
       "      <td>-1</td>\n",
       "      <td>-1</td>\n",
       "    </tr>\n",
       "    <tr>\n",
       "      <th>145866</th>\n",
       "      <td>0.195</td>\n",
       "      <td>-0.150</td>\n",
       "      <td>F</td>\n",
       "      <td>S</td>\n",
       "      <td>FF</td>\n",
       "      <td>2015040815</td>\n",
       "      <td>0</td>\n",
       "      <td>0</td>\n",
       "      <td>0</td>\n",
       "      <td>1</td>\n",
       "      <td>0.0</td>\n",
       "      <td>0.0</td>\n",
       "      <td>0.0</td>\n",
       "      <td>1</td>\n",
       "      <td>foul</td>\n",
       "      <td>4a</td>\n",
       "      <td>-1</td>\n",
       "      <td>-1</td>\n",
       "    </tr>\n",
       "  </tbody>\n",
       "</table>\n",
       "</div>"
      ],
      "text/plain": [
       "           px     py code type pitch_type       ab_id  b_count  s_count  outs  \\\n",
       "43570   0.191 -0.674    C    S         FF  2015012216        1        0     1   \n",
       "43735  -0.123 -0.023    C    S         FF  2015012261        0        0     0   \n",
       "43736   1.846  0.140    B    B         FF  2015012261        0        1     0   \n",
       "145800 -0.102  0.024    F    S         FF  2015040796        0        0     2   \n",
       "145866  0.195 -0.150    F    S         FF  2015040815        0        0     0   \n",
       "\n",
       "        pitch_num  on_1b  on_2b  on_3b  swing     res zone  x  y  \n",
       "43570           2    1.0    1.0    0.0      0  strike   7a -1 -1  \n",
       "43735           1    0.0    0.0    0.0      0  strike   4a -1 -1  \n",
       "43736           2    0.0    0.0    0.0      0    ball  13b -1 -1  \n",
       "145800          1    0.0    0.0    0.0      1    foul   4a -1 -1  \n",
       "145866          1    0.0    0.0    0.0      1    foul   4a -1 -1  "
      ]
     },
     "execution_count": 54,
     "metadata": {},
     "output_type": "execute_result"
    }
   ],
   "source": [
    "df.loc[:, \"x\"] = -1\n",
    "df.loc[:, \"y\"] = -1\n",
    "df.head()"
   ]
  },
  {
   "cell_type": "code",
   "execution_count": 55,
   "id": "880ab88b",
   "metadata": {},
   "outputs": [
    {
     "name": "stderr",
     "output_type": "stream",
     "text": [
      "/opt/miniconda3/lib/python3.9/site-packages/pandas/core/indexing.py:1817: SettingWithCopyWarning: \n",
      "A value is trying to be set on a copy of a slice from a DataFrame.\n",
      "Try using .loc[row_indexer,col_indexer] = value instead\n",
      "\n",
      "See the caveats in the documentation: https://pandas.pydata.org/pandas-docs/stable/user_guide/indexing.html#returning-a-view-versus-a-copy\n",
      "  self._setitem_single_column(loc, value, pi)\n"
     ]
    }
   ],
   "source": [
    "# Best thing to do is a helocmap of the counts\n",
    "for index, row in df.iterrows():\n",
    "    if row[\"zone\"] in [\"9a\", \"9b\"]:\n",
    "        df.loc[index, \"x\"] = 0\n",
    "        df.loc[index, \"y\"] = 0\n",
    "    elif row[\"zone\"] in [\"10a\", \"10b\"]:\n",
    "        df.loc[index, \"x\"] = 2\n",
    "        df.loc[index, \"y\"] = 0\n",
    "    elif row[\"zone\"] in [\"11a\", \"11b\"]:\n",
    "        df.loc[index, \"x\"] = 4\n",
    "        df.loc[index, \"y\"] = 0\n",
    "    elif row[\"zone\"] in [\"12a\", \"12b\"]:\n",
    "        df.loc[index, \"x\"] = 0\n",
    "        df.loc[index, \"y\"] = 2\n",
    "    elif row[\"zone\"] in [\"13a\", \"13b\"]:\n",
    "        df.loc[index, \"x\"] = 2\n",
    "        df.loc[index, \"y\"] = 4\n",
    "    elif row[\"zone\"] in [\"14a\", \"14b\"]:\n",
    "        df.loc[index, \"x\"] = 0\n",
    "        df.loc[index, \"y\"] = 4\n",
    "    elif row[\"zone\"] in [\"15a\", \"15b\"]:\n",
    "        df.loc[index, \"x\"] = 2\n",
    "        df.loc[index, \"y\"] = 4\n",
    "    elif row[\"zone\"] in [\"16a\", \"16b\"]:\n",
    "        df.loc[index, \"x\"] = 4\n",
    "        df.loc[index, \"y\"] = 4\n",
    "    elif row[\"zone\"] == \"0a\":\n",
    "        df.loc[index, \"x\"] = 1\n",
    "        df.loc[index, \"y\"] = 1\n",
    "    elif row[\"zone\"] == \"1a\":\n",
    "        df.loc[index, \"x\"] = 2\n",
    "        df.loc[index, \"y\"] = 1\n",
    "    elif row[\"zone\"] == \"2a\":\n",
    "        df.loc[index, \"x\"] = 3\n",
    "        df.loc[index, \"y\"] = 1\n",
    "    elif row[\"zone\"] == \"3a\":\n",
    "        df.loc[index, \"x\"] = 1\n",
    "        df.loc[index, \"y\"] = 2\n",
    "    elif row[\"zone\"] == \"4a\":\n",
    "        df.loc[index, \"x\"] = 2\n",
    "        df.loc[index, \"y\"] = 2\n",
    "    elif row[\"zone\"] == \"5a\":\n",
    "        df.loc[index, \"x\"] = 3\n",
    "        df.loc[index, \"y\"] = 2\n",
    "    elif row[\"zone\"] == \"6a\":\n",
    "        df.loc[index, \"x\"] = 1\n",
    "        df.loc[index, \"y\"] = 3\n",
    "    elif row[\"zone\"] == \"7a\":\n",
    "        df.loc[index, \"x\"] = 2\n",
    "        df.loc[index, \"y\"] = 3\n",
    "    elif row[\"zone\"] == \"8a\":\n",
    "        df.loc[index, \"x\"] = 3\n",
    "        df.loc[index, \"y\"] = 3"
   ]
  },
  {
   "cell_type": "code",
   "execution_count": 56,
   "id": "2f722590",
   "metadata": {},
   "outputs": [
    {
     "data": {
      "text/plain": [
       "4    34\n",
       "2    27\n",
       "3    19\n",
       "1    18\n",
       "0     7\n",
       "Name: y, dtype: int64"
      ]
     },
     "execution_count": 56,
     "metadata": {},
     "output_type": "execute_result"
    }
   ],
   "source": [
    "df[\"y\"].value_counts()"
   ]
  },
  {
   "cell_type": "code",
   "execution_count": 57,
   "id": "10472d0b",
   "metadata": {},
   "outputs": [
    {
     "data": {
      "text/plain": [
       "2    55\n",
       "3    31\n",
       "0     8\n",
       "4     7\n",
       "1     4\n",
       "Name: x, dtype: int64"
      ]
     },
     "execution_count": 57,
     "metadata": {},
     "output_type": "execute_result"
    }
   ],
   "source": [
    "df[\"x\"].value_counts()"
   ]
  },
  {
   "cell_type": "code",
   "execution_count": 58,
   "id": "b3b59e4f",
   "metadata": {},
   "outputs": [
    {
     "data": {
      "text/plain": [
       "x  y\n",
       "2  4    28\n",
       "3  1    11\n",
       "   2    10\n",
       "   3    10\n",
       "2  3     9\n",
       "0  2     7\n",
       "2  2     7\n",
       "   1     6\n",
       "4  4     6\n",
       "2  0     5\n",
       "1  2     3\n",
       "0  0     1\n",
       "1  1     1\n",
       "4  0     1\n",
       "dtype: int64"
      ]
     },
     "execution_count": 58,
     "metadata": {},
     "output_type": "execute_result"
    }
   ],
   "source": [
    "df[[\"x\", \"y\"]].value_counts()"
   ]
  },
  {
   "cell_type": "code",
   "execution_count": 28,
   "id": "7c3e15a7",
   "metadata": {},
   "outputs": [],
   "source": [
    "flights = sns.load_dataset(\"flights\")"
   ]
  },
  {
   "cell_type": "code",
   "execution_count": 29,
   "id": "4781a50c",
   "metadata": {},
   "outputs": [],
   "source": [
    "flights = flights.pivot(\"month\", \"year\", \"passengers\")"
   ]
  },
  {
   "cell_type": "code",
   "execution_count": 40,
   "id": "64d122d2",
   "metadata": {},
   "outputs": [
    {
     "ename": "IndexError",
     "evalue": "Inconsistent shape between the condition and the input (got (14, 1) and (14,))",
     "output_type": "error",
     "traceback": [
      "\u001b[0;31m---------------------------------------------------------------------------\u001b[0m",
      "\u001b[0;31mIndexError\u001b[0m                                Traceback (most recent call last)",
      "\u001b[0;32m<ipython-input-40-1600e23d8467>\u001b[0m in \u001b[0;36m<module>\u001b[0;34m\u001b[0m\n\u001b[0;32m----> 1\u001b[0;31m \u001b[0max\u001b[0m \u001b[0;34m=\u001b[0m \u001b[0msns\u001b[0m\u001b[0;34m.\u001b[0m\u001b[0mheatmap\u001b[0m\u001b[0;34m(\u001b[0m\u001b[0mdf\u001b[0m\u001b[0;34m.\u001b[0m\u001b[0mvalue_counts\u001b[0m\u001b[0;34m(\u001b[0m\u001b[0;34m)\u001b[0m\u001b[0;34m)\u001b[0m\u001b[0;34m\u001b[0m\u001b[0;34m\u001b[0m\u001b[0m\n\u001b[0m",
      "\u001b[0;32m/opt/miniconda3/lib/python3.9/site-packages/seaborn/_decorators.py\u001b[0m in \u001b[0;36minner_f\u001b[0;34m(*args, **kwargs)\u001b[0m\n\u001b[1;32m     44\u001b[0m             )\n\u001b[1;32m     45\u001b[0m         \u001b[0mkwargs\u001b[0m\u001b[0;34m.\u001b[0m\u001b[0mupdate\u001b[0m\u001b[0;34m(\u001b[0m\u001b[0;34m{\u001b[0m\u001b[0mk\u001b[0m\u001b[0;34m:\u001b[0m \u001b[0marg\u001b[0m \u001b[0;32mfor\u001b[0m \u001b[0mk\u001b[0m\u001b[0;34m,\u001b[0m \u001b[0marg\u001b[0m \u001b[0;32min\u001b[0m \u001b[0mzip\u001b[0m\u001b[0;34m(\u001b[0m\u001b[0msig\u001b[0m\u001b[0;34m.\u001b[0m\u001b[0mparameters\u001b[0m\u001b[0;34m,\u001b[0m \u001b[0margs\u001b[0m\u001b[0;34m)\u001b[0m\u001b[0;34m}\u001b[0m\u001b[0;34m)\u001b[0m\u001b[0;34m\u001b[0m\u001b[0;34m\u001b[0m\u001b[0m\n\u001b[0;32m---> 46\u001b[0;31m         \u001b[0;32mreturn\u001b[0m \u001b[0mf\u001b[0m\u001b[0;34m(\u001b[0m\u001b[0;34m**\u001b[0m\u001b[0mkwargs\u001b[0m\u001b[0;34m)\u001b[0m\u001b[0;34m\u001b[0m\u001b[0;34m\u001b[0m\u001b[0m\n\u001b[0m\u001b[1;32m     47\u001b[0m     \u001b[0;32mreturn\u001b[0m \u001b[0minner_f\u001b[0m\u001b[0;34m\u001b[0m\u001b[0;34m\u001b[0m\u001b[0m\n\u001b[1;32m     48\u001b[0m \u001b[0;34m\u001b[0m\u001b[0m\n",
      "\u001b[0;32m/opt/miniconda3/lib/python3.9/site-packages/seaborn/matrix.py\u001b[0m in \u001b[0;36mheatmap\u001b[0;34m(data, vmin, vmax, cmap, center, robust, annot, fmt, annot_kws, linewidths, linecolor, cbar, cbar_kws, cbar_ax, square, xticklabels, yticklabels, mask, ax, **kwargs)\u001b[0m\n\u001b[1;32m    538\u001b[0m     \"\"\"\n\u001b[1;32m    539\u001b[0m     \u001b[0;31m# Initialize the plotter object\u001b[0m\u001b[0;34m\u001b[0m\u001b[0;34m\u001b[0m\u001b[0;34m\u001b[0m\u001b[0m\n\u001b[0;32m--> 540\u001b[0;31m     plotter = _HeatMapper(data, vmin, vmax, cmap, center, robust, annot, fmt,\n\u001b[0m\u001b[1;32m    541\u001b[0m                           \u001b[0mannot_kws\u001b[0m\u001b[0;34m,\u001b[0m \u001b[0mcbar\u001b[0m\u001b[0;34m,\u001b[0m \u001b[0mcbar_kws\u001b[0m\u001b[0;34m,\u001b[0m \u001b[0mxticklabels\u001b[0m\u001b[0;34m,\u001b[0m\u001b[0;34m\u001b[0m\u001b[0;34m\u001b[0m\u001b[0m\n\u001b[1;32m    542\u001b[0m                           yticklabels, mask)\n",
      "\u001b[0;32m/opt/miniconda3/lib/python3.9/site-packages/seaborn/matrix.py\u001b[0m in \u001b[0;36m__init__\u001b[0;34m(self, data, vmin, vmax, cmap, center, robust, annot, fmt, annot_kws, cbar, cbar_kws, xticklabels, yticklabels, mask)\u001b[0m\n\u001b[1;32m    109\u001b[0m         \u001b[0mmask\u001b[0m \u001b[0;34m=\u001b[0m \u001b[0m_matrix_mask\u001b[0m\u001b[0;34m(\u001b[0m\u001b[0mdata\u001b[0m\u001b[0;34m,\u001b[0m \u001b[0mmask\u001b[0m\u001b[0;34m)\u001b[0m\u001b[0;34m\u001b[0m\u001b[0;34m\u001b[0m\u001b[0m\n\u001b[1;32m    110\u001b[0m \u001b[0;34m\u001b[0m\u001b[0m\n\u001b[0;32m--> 111\u001b[0;31m         \u001b[0mplot_data\u001b[0m \u001b[0;34m=\u001b[0m \u001b[0mnp\u001b[0m\u001b[0;34m.\u001b[0m\u001b[0mma\u001b[0m\u001b[0;34m.\u001b[0m\u001b[0mmasked_where\u001b[0m\u001b[0;34m(\u001b[0m\u001b[0mnp\u001b[0m\u001b[0;34m.\u001b[0m\u001b[0masarray\u001b[0m\u001b[0;34m(\u001b[0m\u001b[0mmask\u001b[0m\u001b[0;34m)\u001b[0m\u001b[0;34m,\u001b[0m \u001b[0mplot_data\u001b[0m\u001b[0;34m)\u001b[0m\u001b[0;34m\u001b[0m\u001b[0;34m\u001b[0m\u001b[0m\n\u001b[0m\u001b[1;32m    112\u001b[0m \u001b[0;34m\u001b[0m\u001b[0m\n\u001b[1;32m    113\u001b[0m         \u001b[0;31m# Get good names for the rows and columns\u001b[0m\u001b[0;34m\u001b[0m\u001b[0;34m\u001b[0m\u001b[0;34m\u001b[0m\u001b[0m\n",
      "\u001b[0;32m/opt/miniconda3/lib/python3.9/site-packages/numpy/ma/core.py\u001b[0m in \u001b[0;36mmasked_where\u001b[0;34m(condition, a, copy)\u001b[0m\n\u001b[1;32m   1927\u001b[0m     \u001b[0;34m(\u001b[0m\u001b[0mcshape\u001b[0m\u001b[0;34m,\u001b[0m \u001b[0mashape\u001b[0m\u001b[0;34m)\u001b[0m \u001b[0;34m=\u001b[0m \u001b[0;34m(\u001b[0m\u001b[0mcond\u001b[0m\u001b[0;34m.\u001b[0m\u001b[0mshape\u001b[0m\u001b[0;34m,\u001b[0m \u001b[0ma\u001b[0m\u001b[0;34m.\u001b[0m\u001b[0mshape\u001b[0m\u001b[0;34m)\u001b[0m\u001b[0;34m\u001b[0m\u001b[0;34m\u001b[0m\u001b[0m\n\u001b[1;32m   1928\u001b[0m     \u001b[0;32mif\u001b[0m \u001b[0mcshape\u001b[0m \u001b[0;32mand\u001b[0m \u001b[0mcshape\u001b[0m \u001b[0;34m!=\u001b[0m \u001b[0mashape\u001b[0m\u001b[0;34m:\u001b[0m\u001b[0;34m\u001b[0m\u001b[0;34m\u001b[0m\u001b[0m\n\u001b[0;32m-> 1929\u001b[0;31m         raise IndexError(\"Inconsistent shape between the condition and the input\"\n\u001b[0m\u001b[1;32m   1930\u001b[0m                          \" (got %s and %s)\" % (cshape, ashape))\n\u001b[1;32m   1931\u001b[0m     \u001b[0;32mif\u001b[0m \u001b[0mhasattr\u001b[0m\u001b[0;34m(\u001b[0m\u001b[0ma\u001b[0m\u001b[0;34m,\u001b[0m \u001b[0;34m'_mask'\u001b[0m\u001b[0;34m)\u001b[0m\u001b[0;34m:\u001b[0m\u001b[0;34m\u001b[0m\u001b[0;34m\u001b[0m\u001b[0m\n",
      "\u001b[0;31mIndexError\u001b[0m: Inconsistent shape between the condition and the input (got (14, 1) and (14,))"
     ]
    }
   ],
   "source": [
    "ax = sns.heatmap(df.value_counts())"
   ]
  },
  {
   "cell_type": "code",
   "execution_count": 107,
   "id": "d44010b2",
   "metadata": {},
   "outputs": [],
   "source": [
    "# construct x and y (to place the pitches  in the right bin, there should be 25 bins, 5x5)\n",
    "# rlocher than making the zones 1d we maybe should have made it 2d... lol I guess thloc makes sense now\n",
    "# would have been easier for tensore crelocion, but oh well"
   ]
  },
  {
   "cell_type": "code",
   "execution_count": null,
   "id": "94c7d39e",
   "metadata": {},
   "outputs": [],
   "source": [
    "# I can reverse from zone to get inputs\n",
    "# obvious & non-obvious zones are not important\n",
    "# long zones - append 1 count to 3 equal sized zones"
   ]
  }
 ],
 "metadata": {
  "kernelspec": {
   "display_name": "Python 3",
   "language": "python",
   "name": "python3"
  },
  "language_info": {
   "codemirror_mode": {
    "name": "ipython",
    "version": 3
   },
   "file_extension": ".py",
   "mimetype": "text/x-python",
   "name": "python",
   "nbconvert_exporter": "python",
   "pygments_lexer": "ipython3",
   "version": "3.9.2"
  }
 },
 "nbformat": 4,
 "nbformat_minor": 5
}

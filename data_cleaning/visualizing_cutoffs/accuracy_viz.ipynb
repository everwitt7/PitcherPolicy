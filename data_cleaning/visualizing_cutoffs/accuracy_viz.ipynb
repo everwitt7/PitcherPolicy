{
 "cells": [
  {
   "cell_type": "markdown",
   "id": "be387229",
   "metadata": {},
   "source": [
    "Covariance Matrices [xx, xy, yx, yy]\n",
    "\n",
    "Gerrit Cole\n",
    "\n",
    "FF\n",
    "Emp: [[ 0.38104483, -0.0621106 ],  [-0.0621106,   0.3474098]]\n",
    "Pred: [[ 0.4640269, -0.1104666], [-0.1104666, 0.56271607]]\n",
    "\n",
    "FT\n",
    "Emp: [[ 0.38798563,  -0.10095519],  [-0.10095519,  0.37391855]]\n",
    "Pred: [ [0.4931291, -0.13062061], [-0.13062061, 0.5323079]]\n",
    "\n",
    "Ubaldo Jimenez\n",
    "\n",
    "FF\n",
    "Emp: [[ 0.43914974 -0.05344973], [-0.05344973  0.3939794 ]]\n",
    "Pred: [[0.46599102, -0.114038944], [-0.114038944, 0.5623723]]\n",
    "\n",
    "FT\n",
    "Emp: [[ 0.30117008 -0.1052966 ], [-0.1052966   0.42576342]]\n",
    "Pred: [[0.4947239, -0.13294807], [-0.13294807, 0.52893436]]"
   ]
  },
  {
   "cell_type": "code",
   "execution_count": 4,
   "id": "555b344b",
   "metadata": {},
   "outputs": [],
   "source": [
    "import numpy as np"
   ]
  },
  {
   "cell_type": "code",
   "execution_count": 15,
   "id": "c823a44b",
   "metadata": {},
   "outputs": [],
   "source": [
    "# Empirical\n",
    "emp_cov_ff = [[ 0.38104483, -0.0621106 ], [-0.0621106, 0.3474098]]\n",
    "\n",
    "# Predicted\n",
    "pred_cov_ff = [[ 0.4640269, -0.1104666], [-0.1104666, 0.56271607]]\n",
    "\n",
    "# Params\n",
    "x_int = 0\n",
    "y_int = 0\n",
    "mean = [x_int, y_int]"
   ]
  },
  {
   "cell_type": "code",
   "execution_count": 18,
   "id": "ddff0216",
   "metadata": {},
   "outputs": [
    {
     "data": {
      "text/plain": [
       "array([0.85974236, 0.42287894])"
      ]
     },
     "execution_count": 18,
     "metadata": {},
     "output_type": "execute_result"
    }
   ],
   "source": [
    "# this generates an x, y location deviation\n",
    "np.random.multivariate_normal(mean, emp_cov_ff)"
   ]
  },
  {
   "cell_type": "code",
   "execution_count": 24,
   "id": "7e065e2a",
   "metadata": {},
   "outputs": [],
   "source": [
    "emp = np.random.multivariate_normal(mean, emp_cov_ff, 100)\n",
    "pred = np.random.multivariate_normal(mean, pred_cov_ff, 100)"
   ]
  },
  {
   "cell_type": "code",
   "execution_count": null,
   "id": "0594dbce",
   "metadata": {},
   "outputs": [],
   "source": [
    "# i will have to build this same heat map...\n"
   ]
  }
 ],
 "metadata": {
  "kernelspec": {
   "display_name": "Python 3",
   "language": "python",
   "name": "python3"
  },
  "language_info": {
   "codemirror_mode": {
    "name": "ipython",
    "version": 3
   },
   "file_extension": ".py",
   "mimetype": "text/x-python",
   "name": "python",
   "nbconvert_exporter": "python",
   "pygments_lexer": "ipython3",
   "version": "3.9.2"
  }
 },
 "nbformat": 4,
 "nbformat_minor": 5
}

{
 "cells": [
  {
   "cell_type": "code",
   "execution_count": 1,
   "metadata": {},
   "outputs": [],
   "source": [
    "import pandas as pd\n",
    "import numpy as np\n",
    "import json"
   ]
  },
  {
   "cell_type": "code",
   "execution_count": 2,
   "metadata": {},
   "outputs": [],
   "source": [
    "p = pd.read_csv('./all_pitches.csv')"
   ]
  },
  {
   "cell_type": "code",
   "execution_count": 3,
   "metadata": {},
   "outputs": [],
   "source": [
    "ab = pd.read_csv('./all_atbats.csv')"
   ]
  },
  {
   "cell_type": "code",
   "execution_count": 4,
   "metadata": {},
   "outputs": [],
   "source": [
    "filt = p['zone'] != '-1'\n",
    "p = p.loc[filt]"
   ]
  },
  {
   "cell_type": "code",
   "execution_count": 5,
   "metadata": {},
   "outputs": [
    {
     "data": {
      "text/plain": [
       "dtype('int64')"
      ]
     },
     "execution_count": 5,
     "metadata": {},
     "output_type": "execute_result"
    }
   ],
   "source": [
    "p['swing'].dtype"
   ]
  },
  {
   "cell_type": "code",
   "execution_count": 6,
   "metadata": {},
   "outputs": [],
   "source": [
    "#remove take data\n",
    "filt = p['swing'] == 1\n",
    "p = p.loc[filt]"
   ]
  },
  {
   "cell_type": "code",
   "execution_count": 7,
   "metadata": {},
   "outputs": [
    {
     "data": {
      "text/plain": [
       "4a     178582\n",
       "7a     152307\n",
       "3a     141434\n",
       "15a    134835\n",
       "5a     134067\n",
       "8a     120389\n",
       "12a    119170\n",
       "6a     113571\n",
       "13a    102380\n",
       "1a      92610\n",
       "0a      70093\n",
       "2a      60445\n",
       "10a     26418\n",
       "16a     22433\n",
       "15b     17343\n",
       "14a     13156\n",
       "13b     10910\n",
       "12b      9653\n",
       "16b      8935\n",
       "10b      8749\n",
       "14b      5140\n",
       "9a       1618\n",
       "11b      1563\n",
       "9b       1369\n",
       "Name: zone, dtype: int64"
      ]
     },
     "execution_count": 7,
     "metadata": {},
     "output_type": "execute_result"
    }
   ],
   "source": [
    "p['zone'].value_counts()"
   ]
  },
  {
   "cell_type": "code",
   "execution_count": 8,
   "metadata": {},
   "outputs": [
    {
     "data": {
      "text/html": [
       "<div>\n",
       "<style scoped>\n",
       "    .dataframe tbody tr th:only-of-type {\n",
       "        vertical-align: middle;\n",
       "    }\n",
       "\n",
       "    .dataframe tbody tr th {\n",
       "        vertical-align: top;\n",
       "    }\n",
       "\n",
       "    .dataframe thead th {\n",
       "        text-align: right;\n",
       "    }\n",
       "</style>\n",
       "<table border=\"1\" class=\"dataframe\">\n",
       "  <thead>\n",
       "    <tr style=\"text-align: right;\">\n",
       "      <th></th>\n",
       "      <th>px</th>\n",
       "      <th>py</th>\n",
       "      <th>code</th>\n",
       "      <th>type</th>\n",
       "      <th>pitch_type</th>\n",
       "      <th>ab_id</th>\n",
       "      <th>b_count</th>\n",
       "      <th>s_count</th>\n",
       "      <th>outs</th>\n",
       "      <th>pitch_num</th>\n",
       "      <th>on_1b</th>\n",
       "      <th>on_2b</th>\n",
       "      <th>on_3b</th>\n",
       "      <th>swing</th>\n",
       "      <th>res</th>\n",
       "      <th>zone</th>\n",
       "    </tr>\n",
       "  </thead>\n",
       "  <tbody>\n",
       "    <tr>\n",
       "      <th>1</th>\n",
       "      <td>-0.191</td>\n",
       "      <td>-0.252</td>\n",
       "      <td>S</td>\n",
       "      <td>S</td>\n",
       "      <td>FF</td>\n",
       "      <td>2015000001</td>\n",
       "      <td>0</td>\n",
       "      <td>1</td>\n",
       "      <td>0</td>\n",
       "      <td>2</td>\n",
       "      <td>0.0</td>\n",
       "      <td>0.0</td>\n",
       "      <td>0.0</td>\n",
       "      <td>1</td>\n",
       "      <td>strike</td>\n",
       "      <td>4a</td>\n",
       "    </tr>\n",
       "    <tr>\n",
       "      <th>2</th>\n",
       "      <td>-0.518</td>\n",
       "      <td>0.685</td>\n",
       "      <td>F</td>\n",
       "      <td>S</td>\n",
       "      <td>FF</td>\n",
       "      <td>2015000001</td>\n",
       "      <td>0</td>\n",
       "      <td>2</td>\n",
       "      <td>0</td>\n",
       "      <td>3</td>\n",
       "      <td>0.0</td>\n",
       "      <td>0.0</td>\n",
       "      <td>0.0</td>\n",
       "      <td>1</td>\n",
       "      <td>foul</td>\n",
       "      <td>0a</td>\n",
       "    </tr>\n",
       "    <tr>\n",
       "      <th>5</th>\n",
       "      <td>0.627</td>\n",
       "      <td>-0.202</td>\n",
       "      <td>X</td>\n",
       "      <td>X</td>\n",
       "      <td>FF</td>\n",
       "      <td>2015000001</td>\n",
       "      <td>2</td>\n",
       "      <td>2</td>\n",
       "      <td>0</td>\n",
       "      <td>6</td>\n",
       "      <td>0.0</td>\n",
       "      <td>0.0</td>\n",
       "      <td>0.0</td>\n",
       "      <td>1</td>\n",
       "      <td>out</td>\n",
       "      <td>5a</td>\n",
       "    </tr>\n",
       "    <tr>\n",
       "      <th>7</th>\n",
       "      <td>-0.257</td>\n",
       "      <td>-0.552</td>\n",
       "      <td>D</td>\n",
       "      <td>X</td>\n",
       "      <td>FC</td>\n",
       "      <td>2015000002</td>\n",
       "      <td>1</td>\n",
       "      <td>0</td>\n",
       "      <td>1</td>\n",
       "      <td>2</td>\n",
       "      <td>0.0</td>\n",
       "      <td>0.0</td>\n",
       "      <td>0.0</td>\n",
       "      <td>1</td>\n",
       "      <td>hit</td>\n",
       "      <td>7a</td>\n",
       "    </tr>\n",
       "    <tr>\n",
       "      <th>10</th>\n",
       "      <td>-0.286</td>\n",
       "      <td>-0.769</td>\n",
       "      <td>E</td>\n",
       "      <td>X</td>\n",
       "      <td>FF</td>\n",
       "      <td>2015000003</td>\n",
       "      <td>2</td>\n",
       "      <td>0</td>\n",
       "      <td>1</td>\n",
       "      <td>3</td>\n",
       "      <td>0.0</td>\n",
       "      <td>1.0</td>\n",
       "      <td>0.0</td>\n",
       "      <td>1</td>\n",
       "      <td>hit</td>\n",
       "      <td>6a</td>\n",
       "    </tr>\n",
       "  </tbody>\n",
       "</table>\n",
       "</div>"
      ],
      "text/plain": [
       "       px     py code type pitch_type       ab_id  b_count  s_count  outs  \\\n",
       "1  -0.191 -0.252    S    S         FF  2015000001        0        1     0   \n",
       "2  -0.518  0.685    F    S         FF  2015000001        0        2     0   \n",
       "5   0.627 -0.202    X    X         FF  2015000001        2        2     0   \n",
       "7  -0.257 -0.552    D    X         FC  2015000002        1        0     1   \n",
       "10 -0.286 -0.769    E    X         FF  2015000003        2        0     1   \n",
       "\n",
       "    pitch_num  on_1b  on_2b  on_3b  swing     res zone  \n",
       "1           2    0.0    0.0    0.0      1  strike   4a  \n",
       "2           3    0.0    0.0    0.0      1    foul   0a  \n",
       "5           6    0.0    0.0    0.0      1     out   5a  \n",
       "7           2    0.0    0.0    0.0      1     hit   7a  \n",
       "10          3    0.0    1.0    0.0      1     hit   6a  "
      ]
     },
     "execution_count": 8,
     "metadata": {},
     "output_type": "execute_result"
    }
   ],
   "source": [
    "p.head()"
   ]
  },
  {
   "cell_type": "code",
   "execution_count": 9,
   "metadata": {},
   "outputs": [
    {
     "data": {
      "text/plain": [
       "FF    577104\n",
       "FT    303865\n",
       "SL    270767\n",
       "CH    185742\n",
       "CU    115379\n",
       "FC     94313\n",
       "Name: pitch_type, dtype: int64"
      ]
     },
     "execution_count": 9,
     "metadata": {},
     "output_type": "execute_result"
    }
   ],
   "source": [
    "p['pitch_type'].value_counts()"
   ]
  },
  {
   "cell_type": "code",
   "execution_count": 10,
   "metadata": {},
   "outputs": [],
   "source": [
    "filt = ab['stand'] == 'R'\n",
    "rhh = ab.loc[filt]"
   ]
  },
  {
   "cell_type": "code",
   "execution_count": 11,
   "metadata": {},
   "outputs": [],
   "source": [
    "#filtering pitches so we have only rhh batters\n",
    "filt = p['ab_id'].isin(rhh['ab_id'])\n",
    "p = p.loc[filt]"
   ]
  },
  {
   "cell_type": "code",
   "execution_count": 12,
   "metadata": {},
   "outputs": [
    {
     "data": {
      "text/plain": [
       "foul      340772\n",
       "out       225964\n",
       "strike    215505\n",
       "hit        93541\n",
       "ball       38829\n",
       "Name: res, dtype: int64"
      ]
     },
     "execution_count": 12,
     "metadata": {},
     "output_type": "execute_result"
    }
   ],
   "source": [
    "#setting res of obvious zones to ball\n",
    "obv_zone = ['9b', '10b', '11b', '12b', '13b', '14b', '15b', '16b']\n",
    "filt = p['zone'].isin(obv_zone)\n",
    "p.loc[filt, 'res'] = 'ball'\n",
    "p['res'].value_counts()"
   ]
  },
  {
   "cell_type": "code",
   "execution_count": 20,
   "metadata": {},
   "outputs": [
    {
     "name": "stdout",
     "output_type": "stream",
     "text": [
      "CH\n",
      "CU\n",
      "FC\n",
      "FF\n",
      "FT\n",
      "SL\n"
     ]
    }
   ],
   "source": [
    "swing_trans = {}\n",
    "for p_name, z in p.groupby('pitch_type'):\n",
    "    print(p_name)\n",
    "    swing_trans[p_name] = {}\n",
    "    for z_name, g in z.groupby('zone'):\n",
    "        swing_trans[p_name][z_name] = dict(g['res'].value_counts(normalize=True))"
   ]
  },
  {
   "cell_type": "code",
   "execution_count": 27,
   "metadata": {},
   "outputs": [
    {
     "data": {
      "text/plain": [
       "0.25837126137841354"
      ]
     },
     "execution_count": 27,
     "metadata": {},
     "output_type": "execute_result"
    }
   ],
   "source": [
    "swing_trans['FF']['0a']['strike']"
   ]
  },
  {
   "cell_type": "code",
   "execution_count": 28,
   "metadata": {},
   "outputs": [],
   "source": [
    "with open('./swing_transitions.json', 'w') as outfile:\n",
    "    json.dump(swing_trans, outfile)"
   ]
  },
  {
   "cell_type": "code",
   "execution_count": null,
   "metadata": {},
   "outputs": [],
   "source": []
  }
 ],
 "metadata": {
  "kernelspec": {
   "display_name": "Python 3",
   "language": "python",
   "name": "python3"
  },
  "language_info": {
   "codemirror_mode": {
    "name": "ipython",
    "version": 3
   },
   "file_extension": ".py",
   "mimetype": "text/x-python",
   "name": "python",
   "nbconvert_exporter": "python",
   "pygments_lexer": "ipython3",
   "version": "3.8.5"
  }
 },
 "nbformat": 4,
 "nbformat_minor": 4
}
